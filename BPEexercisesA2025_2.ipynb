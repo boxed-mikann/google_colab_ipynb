{
  "nbformat": 4,
  "nbformat_minor": 0,
  "metadata": {
    "colab": {
      "provenance": [],
      "include_colab_link": true
    },
    "kernelspec": {
      "name": "python3",
      "display_name": "Python 3"
    },
    "language_info": {
      "name": "python"
    }
  },
  "cells": [
    {
      "cell_type": "markdown",
      "metadata": {
        "id": "view-in-github",
        "colab_type": "text"
      },
      "source": [
        "<a href=\"https://colab.research.google.com/github/boxed-mikann/google_colab_ipynb/blob/main/BPEexercisesA2025_2.ipynb\" target=\"_parent\"><img src=\"https://colab.research.google.com/assets/colab-badge.svg\" alt=\"Open In Colab\"/></a>"
      ]
    },
    {
      "cell_type": "markdown",
      "source": [
        "# **生物工学演習A後半　第2回**\n",
        "\n",
        "このページは生物工学演習A後半の授業資料です。閲覧・共有は受講者限りとします。\n",
        "\n",
        "<br>\n",
        "\n",
        "\n"
      ],
      "metadata": {
        "id": "5PPtg53K0POf"
      }
    },
    {
      "cell_type": "markdown",
      "source": [
        "## **１．チュートリアル**"
      ],
      "metadata": {
        "id": "oLJJvtyfsBOD"
      }
    },
    {
      "cell_type": "markdown",
      "source": [
        "### データの部分要素（スライス）を取得する\n",
        "\n",
        "- 基本書式はarray[start:stop:step]\n",
        "- 何も書かなければstart=最初、stop=最後、step=1とみなされる"
      ],
      "metadata": {
        "id": "V6SsVz2ZsDni"
      }
    },
    {
      "cell_type": "code",
      "source": [
        "import numpy as np\n",
        "\n",
        "A = np.linspace(0,10,11)\n",
        "\n",
        "print(A) # A全体\n",
        "print(A[2]) # 2番目の要素\n",
        "print(A[2:]) # 2番目以降\n",
        "print(A[2:8]) # 2〜8番目\n",
        "print(A[2:8:2]) # 2〜8番目を2つ飛ばし\n",
        "print(A[2::2]) # 2番目以降を2つ飛ばし\n",
        "print(A[:5:-2]) # 末尾から5番目までを2つ飛ばし"
      ],
      "metadata": {
        "colab": {
          "base_uri": "https://localhost:8080/"
        },
        "id": "USM0RHO2sUjk",
        "outputId": "77ff166d-5177-434a-b381-a9ece621823b"
      },
      "execution_count": null,
      "outputs": [
        {
          "output_type": "stream",
          "name": "stdout",
          "text": [
            "[ 0.  1.  2.  3.  4.  5.  6.  7.  8.  9. 10.]\n",
            "2.0\n",
            "[ 2.  3.  4.  5.  6.  7.  8.  9. 10.]\n",
            "[2. 3. 4. 5. 6. 7.]\n",
            "[2. 4. 6.]\n",
            "[ 2.  4.  6.  8. 10.]\n",
            "[10.  8.  6.]\n"
          ]
        }
      ]
    },
    {
      "cell_type": "markdown",
      "source": [
        "### 形状変換(reshape)と転置(transpose)を行う1"
      ],
      "metadata": {
        "id": "VKf7PmV3s32i"
      }
    },
    {
      "cell_type": "code",
      "source": [
        "D = np.linspace(0,11,12) # 12要素のベクトルDを生成\n",
        "print(D)\n",
        "print('Shape:', D.shape)\n",
        "\n",
        "D = np.reshape(D, (3,4)) # Dを(3,4)の2次元行列にreshape\n",
        "print(D)\n",
        "print('Shape:', D.shape)\n",
        "\n",
        "D = np.transpose(D) # Dを転置\n",
        "print(D)\n",
        "print('Shape:', D.shape)"
      ],
      "metadata": {
        "colab": {
          "base_uri": "https://localhost:8080/"
        },
        "id": "u7nCy66xtb71",
        "outputId": "333daade-b876-47c2-8443-ce9f8e2f0738"
      },
      "execution_count": null,
      "outputs": [
        {
          "output_type": "stream",
          "name": "stdout",
          "text": [
            "[ 0.  1.  2.  3.  4.  5.  6.  7.  8.  9. 10. 11.]\n",
            "Shape: (12,)\n",
            "[[ 0.  1.  2.  3.]\n",
            " [ 4.  5.  6.  7.]\n",
            " [ 8.  9. 10. 11.]]\n",
            "Shape: (3, 4)\n",
            "[[ 0.  4.  8.]\n",
            " [ 1.  5.  9.]\n",
            " [ 2.  6. 10.]\n",
            " [ 3.  7. 11.]]\n",
            "Shape: (4, 3)\n"
          ]
        }
      ]
    },
    {
      "cell_type": "markdown",
      "source": [
        "### 形状変換(reshape)と転置(transpose)を行う2"
      ],
      "metadata": {
        "id": "2ZYmH6dHuVbt"
      }
    },
    {
      "cell_type": "code",
      "source": [
        "D = np.reshape(D, (12,)) # もう一度12要素のベクトルに戻す（中身は最初と異なる）\n",
        "print(D)\n",
        "print('Shape:', D.shape)\n",
        "\n",
        "D = np.reshape(D, (4,3))\n",
        "print(D)\n",
        "print('Shape:', D.shape)\n",
        "\n",
        "D = np.transpose(D)\n",
        "print(D)\n",
        "print('Shape:', D.shape)\n",
        "\n",
        "D = np.reshape(D, (12,))\n",
        "print(D)\n",
        "print('Shape:', D.shape)"
      ],
      "metadata": {
        "colab": {
          "base_uri": "https://localhost:8080/"
        },
        "id": "U2Wa2kGou0NV",
        "outputId": "c263c33c-6a3f-420f-de9c-76ac44b091d8"
      },
      "execution_count": null,
      "outputs": [
        {
          "output_type": "stream",
          "name": "stdout",
          "text": [
            "[ 0.  4.  8.  1.  5.  9.  2.  6. 10.  3.  7. 11.]\n",
            "Shape: (12,)\n",
            "[[ 0.  4.  8.]\n",
            " [ 1.  5.  9.]\n",
            " [ 2.  6. 10.]\n",
            " [ 3.  7. 11.]]\n",
            "Shape: (4, 3)\n",
            "[[ 0.  1.  2.  3.]\n",
            " [ 4.  5.  6.  7.]\n",
            " [ 8.  9. 10. 11.]]\n",
            "Shape: (3, 4)\n",
            "[ 0.  1.  2.  3.  4.  5.  6.  7.  8.  9. 10. 11.]\n",
            "Shape: (12,)\n"
          ]
        }
      ]
    },
    {
      "cell_type": "markdown",
      "source": [
        "### 行列のスライスを行う"
      ],
      "metadata": {
        "id": "eG73yR992sIH"
      }
    },
    {
      "cell_type": "code",
      "source": [
        "M = np.linspace(0,15,16)\n",
        "M = np.reshape(M, (4,4)) # [4x4]行列Mを作成\n",
        "\n",
        "print(M) # M全体\n",
        "print(M[2,:]) # Mのうちの1つめの次元について2番目の要素のみ取得\n",
        "print(M[:,::2]) # Mのうちの2つめの次元について2つ飛ばしで取得"
      ],
      "metadata": {
        "colab": {
          "base_uri": "https://localhost:8080/"
        },
        "id": "ZIlb4VWC2vgJ",
        "outputId": "bd4f87da-867c-42f5-82d2-05421629a99e"
      },
      "execution_count": null,
      "outputs": [
        {
          "output_type": "stream",
          "name": "stdout",
          "text": [
            "[[ 0.  1.  2.  3.]\n",
            " [ 4.  5.  6.  7.]\n",
            " [ 8.  9. 10. 11.]\n",
            " [12. 13. 14. 15.]]\n",
            "[ 8.  9. 10. 11.]\n",
            "[[ 0.  2.]\n",
            " [ 4.  6.]\n",
            " [ 8. 10.]\n",
            " [12. 14.]]\n"
          ]
        }
      ]
    },
    {
      "cell_type": "markdown",
      "source": [
        "\n",
        "---\n",
        "\n",
        "## **2. 演習課題**\n",
        "\n",
        "\n",
        "**ここから演習課題です。以下の指示に従って課題に取り組み、解答を提出してください。**\n",
        "\n",
        "- 上記のチュートリアルや課題中の記述、またオンライン資料・参考書などを参照しながら演習を進めてください。\n",
        "- 解答にPythonを利用した場合、利用したコードとその結果を解答に含めてください。\n",
        "- 1日分の演習に対する解答を1ファイルにまとめ、WordあるいはPDF形式でCLEから提出してください。\n",
        "- 課題番号と解答の対応が判るように整理した解答を提出してください。\n",
        "- pynb（課題番号、コード、結果、テキスト解答が整理・明示されているもの）をPDFに変換して提出しても構いません。（Macの場合は「ファイル」→「プリント」→「PDF」）\n",
        "- 解答の提出は演習時間内を想定していますが、間に合わなければ所定の期限までに提出してください。\n",
        "- なお「オプション」となっている項目は応用問題です。難しければ必ずしも解答する必要はありませんが、解答は加点対象になります。\n",
        "\n",
        "<br>\n"
      ],
      "metadata": {
        "id": "aA6RJHnFrPb6"
      }
    },
    {
      "cell_type": "markdown",
      "source": [
        "---\n",
        "### **課題1: MRI構造画像を扱う1（MPRとスライス）**\n",
        "\n",
        "以下の解析用ファイルにはMRIによって得られたヒト頭部の3次元構造データ*（Multi Planar Reconstruction (MPR)、T1強調画像）が格納されています。被験者の個人情報保護のため、顔部分は削除(deface処理)されています。\n",
        "\n",
        "<br>\n",
        "\n",
        "解析用ファイル\n",
        "\n",
        "https://nishimotolab.org/downloads/sub-CN021_T1w.nii.gz\n",
        "\n",
        "*以下のオープンデータを利用（CC0）:\n",
        "https://openneuro.org/datasets/ds003643/versions/2.0.1\n",
        "\n",
        "3次元レンダリング例（顔部分はdeface処理）\n",
        "\n",
        "<img src=\"https://nishimotolab.org/images/seeds/cn021_rendering.png\" width=40%>\n",
        "\n",
        "<br><br>\n",
        "\n",
        "**データを読み込み、矢状面（しじょうめん）、冠状面、横断面（体軸面）の断層画像（スライス）をプロットしてください（合計3つの画像をプロット）。ただし、それぞれのスライスには小脳が大きく含まれるように、スライス位置を選択した上でプロットしてください。また、矢状面はプロット左が前（顔側）で上が上（頭頂）、冠状面はプロット上が上（頭頂）、横断面はプロット上が前（顔側）になるように表示してください。**\n",
        "\n",
        "<br>\n",
        "\n",
        "ヒント: 解答には以下のサンプルコードや記述等を参考にしても構いません。\n",
        "\n",
        "\n",
        "\n",
        "```python\n",
        "# 準備　ファイルをダウンロードする\n",
        "!wget https://nishimotolab.org/downloads/sub-CN006_T1w.nii.gz\n",
        "# 上記は一度実行すればColabサーバにファイルがダウンロードされます。1セッション内で2回以上実行する必要はありません。\n",
        "```\n",
        "\n",
        "```python\n",
        "import numpy as np\n",
        "import matplotlib.pyplot as plt\n",
        "import nibabel as nib #脳イメージングデータ用ライブラリnibabelを呼び出し、nibと命名\n",
        "\n",
        "# ダウンロードしたファイルを読み込み\n",
        "nii0=nib.load('sub-CN006_T1w.nii.gz')\n",
        "br=nii0.get_fdata()\n",
        "\n",
        "# 読み込んだ3次元脳構造データ（x,y,z)のサイズを表示\n",
        "print('Volume size:', br.shape)\n",
        "\n",
        "# z軸方向について30枚目のスライスを選択\n",
        "br_slice = br[:,:,30]\n",
        "\n",
        "# プロット左が前（顔側）になるようにスライスを転置(transpose)\n",
        "br_slice = np.transpose(br_slice, [1,0])\n",
        "\n",
        "# プロットを表示\n",
        "plt.figure(figsize=(10,10))\n",
        "plt.imshow(br_slice, cmap='gray', vmax=800)\n",
        "plt.show()\n",
        "```\n",
        "\n",
        "<br><br>\n",
        "\n"
      ],
      "metadata": {
        "id": "PGsKpJGh0doM"
      }
    },
    {
      "cell_type": "markdown",
      "source": [
        "\n",
        "---\n",
        "### **課題2: MRI構造画像を扱う2（多次元転置とreshape）**\n",
        "\n",
        "1.  **矢状面、冠状面、横断面（体軸面）について、それぞれ3次元ボリュームの端から端まで等間隔に10枚のスライスを選択し、スライスを横に並べた2次元画像としてプロットしてください（合計3つの横に長い画像をプロット）。各スライスの前後左右の並び方（矢状面は左が前側等）は課題１と同様とします。**\n",
        "\n",
        "2.  **（オプション）矢状面、冠状面、横断面（体軸面）それぞれについて、すべてのスライスをモザイク形式（スライスが2次元タイル状に配置される形式、下記オプション作図例参照）で表示してください。（ヒント：最終的な画像はXY軸がそれぞれボクセルとスライスの二重になっており、4次元の転置を含むreahape, transpose, reshapeの3行で変換可能）**\n",
        "\n",
        "<br>\n",
        "\n",
        "ヒント：　以下のサンプルコードを参考にしても構いません。\n",
        "\n",
        "\n",
        "\n",
        "```python\n",
        "import numpy as np\n",
        "import matplotlib.pyplot as plt\n",
        "import nibabel as nib #脳イメージングデータ用ライブラリnibabelを呼び出し、nibと命名\n",
        "\n",
        "# ダウンロードしたファイルを読み込み\n",
        "nii0=nib.load('sub-CN006_T1w.nii.gz')\n",
        "br=nii0.get_fdata()\n",
        "\n",
        "# 左右方向（Z軸）について等間隔に10枚のスライスを選択\n",
        "# (x256*y256*z176) to (x256*y256*z10)\n",
        "slices = np.linspace(0, br.shape[2]-1, 10, dtype=int)\n",
        "print(\"Selected slices:\", slices)\n",
        "br_slices = br[:, :, slices]\n",
        "\n",
        "# 最終的な2次元画像の縦軸が上下方向(y軸)、横軸が前後方向(x軸)*スライスとなるように、3次元配列を前もって転置\n",
        "#  [0,1,2]  (x256*y256*z10) to [1,2,0] (y256*z10*x256)\n",
        "br_slices = np.transpose(br_slices, [1,2,0])\n",
        "\n",
        "# 2次元画像にするためにreshape\n",
        "# (y256*z10*x256) to (y256*(x+z)2560)\n",
        "br_slices = np.reshape(br_slices, (256, 10*256))\n",
        "\n",
        "# プロットを表示\n",
        "plt.figure(figsize=(12,12))\n",
        "plt.imshow(br_slices, cmap='gray', vmax=800)\n",
        "plt.show()\n",
        "```\n",
        "\n",
        "<br>\n",
        "\n",
        "作図例：　たとえば冠状面について7スライスを等間隔に選んだ場合、（頭部前後の空気を含めて）以下のようなプロットになる想定です。\n",
        "\n",
        "<img src=\"https://nishimotolab.org/images/seeds/coronal_7.png\" width=100%>\n",
        "\n",
        "\n",
        "<br>\n",
        "\n",
        "\n",
        "オプション課題の作図例（冠状面、左上から右下にかけて前側から後側のスライスを表示）\n",
        "<img src=\"https://nishimotolab.org/images/seeds/all_slices.png\" width=100%>\n",
        "\n",
        "\n",
        "オプション課題の追加ヒント\n",
        "- コンピュータの中ではすべてのデータは1次元的なメモリ上に並んでいます。\n",
        "- reshapeは各次元の要素数（解釈）を変えるだけですが、transposeはメモリ上のデータの並びを変更します。\n",
        "\n",
        "<br>\n"
      ],
      "metadata": {
        "id": "UojHWqytRN-p"
      }
    },
    {
      "cell_type": "markdown",
      "source": [
        "\n",
        "\n",
        "---\n",
        "\n",
        "### **課題3：　時系列データの周波数解析を行う**\n",
        "\n",
        "以下のデータファイルはヒトが発声した音声データ(*)をデジタル記録したものです。記録は44.1kHz、ビット深度16bitsで保存されています。\n",
        "\n",
        "<br>\n",
        "\n",
        "データファイル\n",
        "https://nishimotolab.org/downloads/tnc__gongitsune_20sec.wav\n",
        "\n",
        "*[声庭(koniwa)](https://github.com/koniwa/koniwa): テレビ西日本のアナウンサーによる朗読音声（「ごん狐」（朗読：津野瀬果絵））の冒頭20秒を抜粋・加工, CC BY3.0\n",
        "\n",
        "<br>\n",
        "\n",
        "1.   **データファイルを読み込み、音声として再生できることを確認した上で、短時間フーリエ変換を行ってスペクトログラムをプロットしてください。**\n",
        "2.   **上記のデータについて、5kHz, 2kHz, 200Hzをカットオフ周波数としたローパスフィルタを適用し、それぞれのスペクトログラムをプロットした上で、フィルタがスペクトログラムにどのような効果を与えているかを説明してください。**\n",
        "3.   **200Hz~20kHz程度の様々なカットオフ周波数のローパスフィルタを適用した音声を再生し、それぞれが(1)元の記録（44.1kHz）と区別できるか、また(2)日本語音声として聞き取れるかを確認してください。また、計測・記録・通信等のリソースが限定されている状況において、ヒト音声の記録・伝達にはどの程度の周波数までの計測を行うことが望ましいかを考察してください。**\n",
        "4.   **（オプション）上の項目で行った（主観的な）評価をより客観的に行うためにはどのような進め方があるかを考察してください。以下のキーワードを用いても構いません（キーワード：盲検法、機械学習）。**\n",
        "\n",
        "<br>\n",
        "\n",
        "ヒント：　以下のサンプルコードを参考にしても構いません。\n",
        "\n",
        "\n",
        "```python\n",
        "# 準備1:　Colab環境にpydubおよびffmpegをインストール\n",
        "!pip install pydub ffmpeg\n",
        "# 準備2: データファイルをダウンロード\n",
        "!wget https://nishimotolab.org/downloads/tnc__gongitsune_20sec.wav\n",
        "# 上記は一度実行すればColabサーバの環境構築とファイルダウンロードが行われます。1セッション内で2回以上実行する必要はありません。\n",
        "```\n",
        "\n",
        "音声ファイルのダウンロード、スペクトログラム表示、音声再生\n",
        "\n",
        "**注意：実行時に音声が再生されます。**\n",
        "```python\n",
        "import numpy as np\n",
        "import matplotlib.pyplot as plt\n",
        "from pydub import AudioSegment # 音声データ操作のためのライブラリpydubをインポート\n",
        "from IPython.display import Audio, display # 音声再生のためのインターフェースをインポート\n",
        "from scipy.signal import stft # 短時間フーリエ変換のための関数stftをインポート\n",
        "\n",
        "# アップロードされたファイルの名前を取得\n",
        "filename = \"tnc__gongitsune_20sec.wav\"\n",
        "\n",
        "# pydubを使って音声ファイルを読み込む\n",
        "audio = AudioSegment.from_file(filename, format=\"wav\")\n",
        "\n",
        "# 音声データをnumpy配列に変換\n",
        "samples = np.array(audio.get_array_of_samples())\n",
        "rate = audio.frame_rate\n",
        "\n",
        "# 短時間フーリエ変換の実行\n",
        "f, t, Zxx = stft(samples, fs=rate, nperseg=2000)\n",
        "amp = np.std(np.abs(Zxx))\n",
        "\n",
        "# スペクトログラムをプロット\n",
        "plt.figure(figsize=(10, 5))\n",
        "plt.pcolormesh(t, f, np.abs(Zxx), vmax=amp*10) # 標準偏差の10倍を最大値として表示\n",
        "plt.title('Spectrogram')\n",
        "plt.xlabel('Time (s)')\n",
        "plt.ylabel('Frequency (Hz)')\n",
        "plt.ylim(0,10000) # 10kHzまで表示\n",
        "plt.colorbar()\n",
        "plt.show()\n",
        "\n",
        "# 音声を再生\n",
        "display(Audio(samples, rate=rate, autoplay=True))\n",
        "```\n",
        "\n",
        "ローパスフィルタの適用\n",
        "\n",
        "```python\n",
        "from scipy.signal import butter, filtfilt\n",
        "\n",
        "# バターワース・ローパスフィルタの設定\n",
        "nyquist_freq = 0.5 * rate\n",
        "cutoff = 3000  # ローパスフィルタのカットオフ周波数\n",
        "order = 5  # フィルタの次数\n",
        "\n",
        "# フィルタ係数の計算\n",
        "b, a = butter(order, cutoff / nyquist_freq, btype='low')\n",
        "\n",
        "# フィルタの適用\n",
        "filtered_samples = filtfilt(b, a, samples)\n",
        "```\n",
        "\n",
        "<br>\n",
        "\n",
        "\n"
      ],
      "metadata": {
        "id": "GLi0qGLx4dqj"
      }
    },
    {
      "cell_type": "markdown",
      "source": [
        "\n",
        "\n",
        "---\n",
        "\n",
        "\n",
        "### **課題4: 心拍計測を行う**\n",
        "\n",
        "1.  30秒以上安静にした上で、以下のいずれかの方法で心拍数（bpm）を計測してください。計測は3分以上の間隔をあけて2回以上行い、結果を平均してください。\n",
        "\n",
        "  *   橈骨動脈脈拍測定（例：手首に指を当てて15秒間の拍動数を数え、4倍する）\n",
        "  *   心拍計測機能付きスマートウォッチ（持っていれば）\n",
        "  *   その他\n",
        "\n",
        "2. 以下のいずれかを行ってください。（ただし、周囲には気をつけて、無理な運動はしないでください）\n",
        "  *   （無理なく運動ができるようであれば）負荷量の異なる複数の運動（その場駆け足N秒/2N秒、スクワットM回/2M回等）を行い、それぞれ運動直後の心拍数を計測してください。上の項目で計測した心拍数と比較し、それぞれどの程度変化したか（あるいはしなかったか）を確認してください。\n",
        "  *   （運動が難しければ）数学の問題を解く、面白い/怖い動画を見る、会話をする、などの認知活動を行い、それぞれ直後の心拍数を計測してください。上の項目で計測した心拍数と比較し、それぞれどの程度変化したか（あるいはしなかったか）を確認してください。\n",
        "\n",
        "\n",
        "上記の実測経験を踏まえ、以下について解答してください。\n",
        "1.  **計測に用いた心拍測定の原理、および測定手順や注意点について、初見の高校生が読んで計測が実施できる程度に判りやすく簡潔に説明してください。**\n",
        "2.  **心拍に対する運動や認知負荷の影響（量や種類と心拍変化量の関係）、あるいは心拍測定の安定性やゆらぎについて、計測体験をもとに概説してください。**\n",
        "\n",
        "<br>\n",
        "\n",
        "参考：\n",
        "\n",
        "看護roo!\n",
        "\n",
        "<img src=\"https://img.kango-roo.com/upload/images/scio/kiso-kangogijyutsu/34-53/ch2-f1.png\" width=70%>\n",
        "\n",
        "厚生労働省　運動基準・運動指針の改定に関する検討会　報告書\n",
        "\n",
        "<img src=\"https://nishimotolab.org/images/seeds/hr_scale.png\" width=70%>"
      ],
      "metadata": {
        "id": "HAyEwUoeWM4p"
      }
    }
  ]
}