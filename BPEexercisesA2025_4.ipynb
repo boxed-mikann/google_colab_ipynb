{
  "nbformat": 4,
  "nbformat_minor": 0,
  "metadata": {
    "colab": {
      "provenance": [],
      "include_colab_link": true
    },
    "kernelspec": {
      "name": "python3",
      "display_name": "Python 3"
    },
    "language_info": {
      "name": "python"
    }
  },
  "cells": [
    {
      "cell_type": "markdown",
      "metadata": {
        "id": "view-in-github",
        "colab_type": "text"
      },
      "source": [
        "<a href=\"https://colab.research.google.com/github/boxed-mikann/google_colab_ipynb/blob/main/BPEexercisesA2025_4.ipynb\" target=\"_parent\"><img src=\"https://colab.research.google.com/assets/colab-badge.svg\" alt=\"Open In Colab\"/></a>"
      ]
    },
    {
      "cell_type": "markdown",
      "source": [
        "# **生物工学演習A後半　第４回**\n",
        "\n",
        "このページは生物工学演習A後半の授業資料です。閲覧・共有は受講者限りとします。\n",
        "\n",
        "<br>\n",
        "\n",
        "なお、「オプション」となっている項目は応用問題です。難しければ必ずしも解答する必要はありませんが、解答は加点対象になります。\n",
        "\n",
        "<br><br>\n"
      ],
      "metadata": {
        "id": "UxkbCl-hk7uM"
      }
    },
    {
      "cell_type": "markdown",
      "source": [
        "## **課題　オープンデータを用いた脳計量**\n"
      ],
      "metadata": {
        "id": "pYKzh-EDUeIx"
      }
    },
    {
      "cell_type": "markdown",
      "source": [
        "学術研究に用いたデータは世界中の誰でもが使えるように公開することが一般的になりつつあります。このようにして公開されたデータはオープンデータと呼ばれ、様々なオープンデータをまとめたサイトが存在します。\n",
        "\n",
        "<br>\n",
        "\n",
        "脳・神経科学関係のデータを公開する大手サイトの一つにOpenNeuro.orgがあります。OpenNeuroでは1,400を超えるデータセット、60,000人を超える被験者のデータが公開されています（2025年7月現在）。\n",
        "\n",
        "https://openneuro.org\n",
        "\n",
        "<br>\n",
        "\n",
        "今回はここに公開されているヒト超高磁場（9.4T）MRI構造画像データセットを扱います。\n",
        "\n",
        "\n",
        "UltraCortex: Submillimeter Ultra-High Field 9.4T Brain MR Image Collection and Manual Cortical Segmentations\n",
        "\n",
        "Mahler et al., (2024) *bioRxiv/OpenNeuro*\n",
        "\n",
        "https://openneuro.org/datasets/ds005216/versions/1.0.1\n",
        "\n",
        "\n",
        "<br>\n",
        "\n",
        "上記データセットでは、0.6-0.8mm等の高いボクセル解像度で撮影されたヒト脳のT1強調画像（sub-XX/ses-1/anat/XX.nii）や、大脳皮質・白質ボクセルを抽出してその位置を示したセグメンテーションデータ（derivatives/manual_segmentation/XX.nii）、また被験者の属性情報（participants.tsv; 被験者ID、年齢、性別）などが公開されています。\n",
        "\n",
        "<br>\n",
        "\n",
        "1.  **上記オープンデータについて、被験者1名を下記の基準で選んだ上で、サイトのGUIを用いてT1強調画像の断面図可視化を行ってください（スクリーンショットを解答）。ただし、解答は以下の条件に沿う形で進めてください。**\n",
        "\n",
        "  *   横断面・冠状面・矢状面それぞれに小脳が明確に含まれるようにスライスを選択してください。\n",
        "  *   自分の学籍番号の下2桁と同じ、もしくはそれに最も近い被験者IDのデータについて解答してください。\n",
        "  *   選んだ被験者について、被験者ID、年齢、および性別も合わせて解答してください。\n",
        "\n",
        "2.  **手動セグメンテーション（manual segmentation）が行われている被験者のうちの任意の1名のデータについて、抽出された左右大脳皮質のボクセル位置をプロットしてください。プロットは複数スライスについて表示し、脳の形の概要が判るようにしてください。**\n",
        "\n",
        "3.  **手動セグメンテーションが行われている被験者12名全員のデータについて、左右大脳皮質の体積（立方ミリメートル単位）を求め、12名の平均と標準偏差を解答してください。**\n",
        "\n",
        "4.  **ヒト大脳皮質1立方ミリメートルには平均約4万個の神経細胞、および約7億個のシナプス結合(\\*1)があるとされています。3.で求めた皮質体積と合わせ、ヒト大脳皮質全体にはどの程度のシナプス結合があるか概算してください。また、その数と近年の基盤モデル・大規模言語モデル（LLM）等の巨大AIモデルの結合パラメータ数（情報が公開されている中で最大級のものはLlama 4のパラメータ数2T、T=trillions）を比較し、どちらがどの程度（何倍程度）多いかを考察してください。**\n",
        "\n",
        "5.  （オプション）**上記データのderivatives/brainmasksには小脳なども含めた脳全体（全脳）のボクセル位置を示すマスクデータが入っています。このデータと被験者情報のクロス集計を行い、性別・年齢に関する全脳体積の統計的傾向を求めてください。**\n",
        "\n",
        "\n",
        "<br>\n",
        "\n",
        "\\*1: Lennie P. (2003). The cost of cortical computation. *Current Biology*, 13(6), 493–497. https://doi.org/10.1016/s0960-9822(03)00135-0\n",
        "\n",
        "<br>\n",
        "\n",
        "ヒント：　以下のサンプルコードや図を参照しても構いません。ただし、コードを使う場合は各行が何をしているかを理解してから利用してください。\n",
        "\n",
        "\n",
        "<br>\n",
        "\n"
      ],
      "metadata": {
        "id": "pDquATSZT8o6"
      }
    },
    {
      "cell_type": "markdown",
      "source": [
        "\n",
        "OpenNeuroのGUIを用いたT1強調画像のスクリーンショット例：\n",
        "\n",
        "<img src=\"https://nishimotolab.org/images/seeds/T1_9T_sub10.png\" width=100%>\n",
        "\n",
        "\n",
        "\n",
        "準備\n",
        "```python\n",
        "##　注意：以下はGoogle Colabセッション中に1回行えば環境構築とダウンロードが実行されます。セッション中に2回以上実行する必要はありません。\n",
        "\n",
        "# GitHubを使うために必要な環境を構築\n",
        "!apt-get update && apt-get install -y git-annex\n",
        "!git annex init\n",
        "\n",
        "# GitHubを介して該当するOpenNeuroデータの情報（ディレクトリ構造・ファイルリスト）を取得\n",
        "# （注意: ここではファイルのリストのみが取得され、「ファイル」にそれらが表示はされますがその実体はColabサーバにダウンロードされていません）\n",
        "!git clone https://github.com/OpenNeuroDatasets/ds005216.git\n",
        "\n",
        "# derivatives/manual_segmentation内のファイルを一括ダウンロード\n",
        "# （注意: この作業を行うまではファイルはColabサーバにダウンロードされていません。）\n",
        "%cd /content/ds005216\n",
        "!git annex get derivatives/manual_segmentation\n",
        "\n",
        "```\n",
        "\n",
        "<br>\n",
        "\n",
        "データ解析を行うサンプルコード\n",
        "\n",
        "```python\n",
        "import nibabel as nib\n",
        "import numpy as np\n",
        "import matplotlib.pyplot as plt\n",
        "\n",
        "fname = '/content/ds005216/derivatives/manual_segmentation/sub-20_ses-1_seg.nii'\n",
        "\n",
        "# niiファイルをロード\n",
        "niidata = nib.load(fname)\n",
        "\n",
        "# ボクセルサイズ（mm）を取得\n",
        "voxel_sizes = niidata.header.get_zooms()\n",
        "\n",
        "# Segmentationされた3次元ボリュームを取得\n",
        "data = niidata.get_fdata()\n",
        "\n",
        "## ボリューム中の要素番号と脳部位の対応\n",
        "## 2   Left-Cerebral-White-Matter    左大脳白質\n",
        "## 3   Left-Cerebral-Cortex          左大脳皮質（灰白質）\n",
        "## 41  Right-Cerebral-White-Matter   右大脳白質\n",
        "## 42  Right-Cerebral-Cortex         右大脳皮質（灰白質）\n",
        "\n",
        "# 一部のスライスを選択して表示用の2次元行列を作成\n",
        "d = data[:, :, np.linspace(0,data.shape[2]-1,8, dtype=int)]\n",
        "d = d.transpose(1,2,0)\n",
        "d = np.flip(d,axis=0)\n",
        "d2 = np.reshape(d,[d.shape[0],d.shape[1]*d.shape[2]])\n",
        "\n",
        "# 左大脳白質（2）と左大脳皮質(3)を選択してマスクを作成\n",
        "im = (d2 == 2) | (d2 == 3)\n",
        "\n",
        "plt.figure(figsize=(15,15))\n",
        "plt.imshow(im)\n",
        "plt.show()\n",
        "\n",
        "# 左大脳白質と左大脳皮質を選択し、ボクセル数と体積を求める\n",
        "count = np.count_nonzero((data == 2) | (data == 3))\n",
        "volume_in_mm3 = count*np.prod(voxel_sizes)\n",
        "print(\"Voxel count:\", count)\n",
        "print(\"Voxel size (mm):\", np.round(voxel_sizes,2))\n",
        "print(\"Volume (mm^3):\", round(volume_in_mm3))\n",
        "```\n",
        "\n",
        "<br>\n",
        "\n",
        "左右大脳皮質の想定プロット例（抜粋）\n",
        "\n",
        "<img src=\"https://nishimotolab.org/images/seeds/manual_segmentation.png\" width=100%>\n",
        "\n",
        "<br><br>\n",
        "\n",
        "その他のヒント：\n",
        "\n",
        "多数のファイルの一括処理を行う場合、「os」ライブラリなどの機能を使ってディレクトリ中のファイル一覧をリストとして扱うと効率的です。\n",
        "\n",
        "\n",
        "*   python「os」ライブラリのドキュメントや利用サンプルを確認\n",
        "*   AIに「ディレクトリ（フォルダ）中のファイル一覧をリストとして取得する」等のプロンプト指定を行って得られたサンプルコードを参照\n",
        "\n",
        "\n",
        "<br>\n",
        "\n"
      ],
      "metadata": {
        "id": "kN5J6cTleh-Y"
      }
    }
  ]
}